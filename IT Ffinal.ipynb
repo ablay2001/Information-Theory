{
 "cells": [
  {
   "cell_type": "code",
   "execution_count": 75,
   "metadata": {},
   "outputs": [],
   "source": [
    "import collections\n",
    "import math\n"
   ]
  },
  {
   "cell_type": "code",
   "execution_count": 76,
   "metadata": {},
   "outputs": [
    {
     "name": "stdout",
     "output_type": "stream",
     "text": [
      "Requirement already satisfied: pysimplegui in d:\\anaconda\\lib\\site-packages (4.43.0)\n",
      "Note: you may need to restart the kernel to use updated packages.\n"
     ]
    }
   ],
   "source": [
    "pip install pysimplegui"
   ]
  },
  {
   "cell_type": "code",
   "execution_count": 89,
   "metadata": {},
   "outputs": [
    {
     "name": "stdout",
     "output_type": "stream",
     "text": [
      "hamming 15.11 coded txtfile: 101110011110110101101010011001\n",
      "hamming 7.4 coded txtfile: 0111100001011010101011001100110011001001011100110\n"
     ]
    }
   ],
   "source": [
    "def Hamming7_4(x):\n",
    "    a3=int(x[0])\n",
    "    a5=int(x[1])\n",
    "    a6=int(x[2])\n",
    "    a7=int(x[3])\n",
    "    a1 =(a3+a5+a7)%2\n",
    "    a2 = (a3+a6+a7)%2\n",
    "    a4 = (a5+a6+a7)%2\n",
    "    return str(a1)+str(a2)+x[0]+str(a4)+x[1]+x[2]+x[3]\n",
    "def Hamming15_11(x):\n",
    "    a3=int(x[0])\n",
    "    a5=int(x[1])\n",
    "    a6=int(x[2])\n",
    "    a7=int(x[3])\n",
    "    a9=int(x[4])\n",
    "    a10=int(x[5])\n",
    "    a11=int(x[6])\n",
    "    a12=int(x[7])\n",
    "    a13=int(x[8])\n",
    "    a14=int(x[9])\n",
    "    a15=int(x[10])\n",
    "    a1 = (a3 + a5 + a7 + a9 + a11+ a13 +a15) % 2\n",
    "    a2 = (a3 + a6 + a7 + a10 + a11 + a14 + a15) % 2\n",
    "    a4 = (a5 + a6 + a7 + a12 +a13+ a14 + a15) % 2\n",
    "    a8 = (a9 +a10 +a11+ a12 + a13 + a14 + a15) % 2\n",
    "    return str(a1)+str(a2)+str(a3)+str(a4)+str(a5)+str(a6)+str(a7)+str(a8)+str(a9)+str(a10)+str(a11)+str(a12)+str(a13)+str(a14)+str(a15)\n",
    "def Encode15_11(a):\n",
    "    hammed15_11=''\n",
    "    while len(a) >= 11:\n",
    "        lim = a[0:11]\n",
    "        hammed15_11+=Hamming15_11(lim)\n",
    "        a = a[11:]\n",
    "        Encode15_11(a)\n",
    "    return hammed15_11\n",
    "def Encode7_4(a):\n",
    "    hammed7_4=''\n",
    "    while len(a) >= 4:\n",
    "        lim = a[0:4]\n",
    "        hammed7_4+=Hamming7_4(lim)\n",
    "        a = a[4:]\n",
    "        Encode7_4(a)\n",
    "  \n",
    "    return hammed7_4\n",
    "code='110011101101010001100101011010'\n",
    "a=Encode15_11(code)\n",
    "print('hamming 15.11 coded txtfile: '+a)\n",
    "b=Encode7_4(code)\n",
    "print('hamming 7.4 coded txtfile: '+b)\n"
   ]
  },
  {
   "cell_type": "code",
   "execution_count": 90,
   "metadata": {},
   "outputs": [],
   "source": [
    "def hamdecod74(a):\n",
    "    b=0\n",
    "    if (int(a[0])+int(a[2])+int(a[4])+int(a[6]))%2==1:\n",
    "        b=b+1\n",
    "    if  (int(a[1])+int(a[2])+int(a[5])+int(a[6]))%2==1:\n",
    "         b=b+2\n",
    "    if  (int(a[3])+int(a[4])+int(a[5])+int(a[6]))%2==1:\n",
    "         b=b+4\n",
    "    if b!=0:\n",
    "        print('signal has some noise and initial signal is:')\n",
    "        b=b-1\n",
    "        print('error at position',b)\n",
    "        if a[b]=='0':\n",
    "            a = a[:b] +'1'+ a[b+1:]\n",
    "        else:\n",
    "             a = a[:b] +'0'+ a[b+1:]\n",
    "        print(a[0]+a[1]+a[2]+a[3]+a[4]+a[5]+a[6])\n",
    "    else:\n",
    "        print('no noise')\n",
    "    "
   ]
  },
  {
   "cell_type": "code",
   "execution_count": 91,
   "metadata": {},
   "outputs": [
    {
     "name": "stdout",
     "output_type": "stream",
     "text": [
      "Whole_Data_Blocks_are: ['1100111', '0010110', '1111110', '1110101', '1000000']\n",
      "Output as following:\n",
      "b:0 : 1100111\n",
      "signal has some noise and initial signal is:\n",
      "error at position 6\n",
      "1100110\n",
      "b:1 : 0010110\n",
      "no noise\n",
      "b:2 : 1111110\n",
      "signal has some noise and initial signal is:\n",
      "error at position 6\n",
      "1111111\n",
      "b:3 : 1110101\n",
      "signal has some noise and initial signal is:\n",
      "error at position 1\n",
      "1010101\n",
      "b:4 : 1000000\n",
      "signal has some noise and initial signal is:\n",
      "error at position 0\n",
      "0000000\n"
     ]
    }
   ],
   "source": [
    "a = '11001110010110111111011101011000000' \n",
    "\n",
    "data_bits = 7\n",
    "\n",
    "Func = [a[i:i+data_bits] for i in range(0, len(a), data_bits)]\n",
    "\n",
    "print('Whole_Data_Blocks_are:',Func)\n",
    "print('Output as following:')\n",
    "for i in range(len(Func)): \n",
    "        print(f'b:{i} : {Func[i]}')\n",
    "        hamdecod74(Func[i])\n",
    "\n"
   ]
  },
  {
   "cell_type": "code",
   "execution_count": 92,
   "metadata": {},
   "outputs": [],
   "source": [
    "def hamdecod1511(a):\n",
    "    b=0\n",
    "    if (int(a[1])+int(a[3])+int(a[5])+int(a[7])+int(a[9])+int(a[11])+int(a[13])+int(a[15]))%2==1:\n",
    "        b=b+1\n",
    "    if (int(a[2])+int(a[3])+int(a[6])+int(a[7])+int(a[10])+int(a[11])+int(a[14])+int(a[15]))%2==1:\n",
    "        b=b+2\n",
    "    if (int(a[4])+int(a[5])+int(a[6])+int(a[7])+int(a[12])+int(a[13])+int(a[14])+int(a[15]))%2==1:\n",
    "        b=b+4\n",
    "    if (int(a[8])+int(a[9])+int(a[10])+int(a[11])+int(a[12])+int(a[13])+int(a[14])+int(a[15]))%2==1:\n",
    "        b=b+8\n",
    "    print('error at position',b)\n",
    "    if b!=0:\n",
    "        print('signal has some noise and initial signal is:')\n",
    "        if a[b]=='0':\n",
    "            a = a[:b] +'1'+ a[b+1:]\n",
    "      \n",
    "        else:\n",
    "\n",
    "            a = a[:b] +'0'+ a[b+1:]\n",
    "        print(a[0]+a[1]+a[2]+a[3]+a[4]+a[5]+a[6]+a[7]+a[8]+a[9]+a[10]+a[11]+a[12]+a[13]+a[14]+a[15])\n",
    "    else:\n",
    "        print('no noise')\n",
    "    "
   ]
  },
  {
   "cell_type": "code",
   "execution_count": 93,
   "metadata": {},
   "outputs": [
    {
     "name": "stdout",
     "output_type": "stream",
     "text": [
      "Whole_Data_Blocks_are: ['1100111001011011', '1111011101011000', '0001011110110101']\n",
      "Output as following:\n",
      "b:0 : 1100111001011011\n",
      "error at position 9\n",
      "signal has some noise and initial signal is:\n",
      "1100111000011011\n",
      "b:1 : 1111011101011000\n",
      "error at position 10\n",
      "signal has some noise and initial signal is:\n",
      "1111011101111000\n",
      "b:2 : 0001011110110101\n",
      "error at position 12\n",
      "signal has some noise and initial signal is:\n",
      "0001011110111101\n"
     ]
    }
   ],
   "source": [
    "a = '110011100101101111110111010110000001011110110101' \n",
    "\n",
    "data_bits = 16\n",
    "\n",
    "Func = [a[i:i+data_bits] for i in range(0, len(a), data_bits)]\n",
    "\n",
    "print('Whole_Data_Blocks_are:',Func)\n",
    "print('Output as following:')\n",
    "for i in range(len(Func)): \n",
    "        print(f'b:{i} : {Func[i]}')\n",
    "        hamdecod1511(Func[i])"
   ]
  },
  {
   "cell_type": "code",
   "execution_count": 100,
   "metadata": {},
   "outputs": [],
   "source": [
    "def entropya(a):\n",
    "    lenght = len (a)\n",
    "    col = collections.Counter([tmp_base for tmp_base in a])\n",
    "    itter=col\n",
    "    entropy = 0\n",
    "    for itter in col:\n",
    "        r_i = col[itter]\n",
    "        p_i = r_i / float (lenght)\n",
    "        entropy_i = p_i * (math.log(p_i, 2))\n",
    "        entropy += entropy_i\n",
    "    return entropy * - 1 "
   ]
  },
  {
   "cell_type": "code",
   "execution_count": 101,
   "metadata": {},
   "outputs": [
    {
     "name": "stdout",
     "output_type": "stream",
     "text": [
      "0.961236604722876\n"
     ]
    }
   ],
   "source": [
    "print(entropya('0101101011011'))"
   ]
  },
  {
   "cell_type": "code",
   "execution_count": 102,
   "metadata": {},
   "outputs": [],
   "source": [
    "def ham74encgui(a):\n",
    "     \n",
    "\n",
    "    data_bits = 7\n",
    "\n",
    "    Func = [a[i:i+data_bits] for i in range(0, len(a), data_bits)]\n",
    "\n",
    "    print('Whole_Data_Blocks_are:',Func)\n",
    "    print('Output as following:')\n",
    "    for i in range(len(Func)): \n",
    "        print(f'b:{i} : {Func[i]}')\n",
    "        hamdecod74(Func[i])\n",
    "def ham1511encgui(a):\n",
    " \n",
    "\n",
    "    data_bits = 16\n",
    "\n",
    "    Func = [a[i:i+data_bits] for i in range(0, len(a), data_bits)]\n",
    "\n",
    "    print('Whole_Data_Blocks_are:',Func)\n",
    "    print('Output as following:')\n",
    "    for i in range(len(Func)): \n",
    "        print(f'b:{i} : {Func[i]}')\n",
    "        hamdecod1511(Func[i])\n",
    "def entropygui(a):\n",
    "    print(entropya(a))\n",
    "def ham1511codgui(a):\n",
    "    c=Encode15_11(a)\n",
    "    print('hamming 15.11 coded txtfile: '+c)\n",
    "def ham74codgui(a):\n",
    "    b=Encode7_4(a)\n",
    "    print('hamming 7.4 coded txtfile: '+b)"
   ]
  },
  {
   "cell_type": "code",
   "execution_count": null,
   "metadata": {},
   "outputs": [
    {
     "name": "stdout",
     "output_type": "stream",
     "text": [
      "0.961236604722876\n"
     ]
    }
   ],
   "source": [
    "import PySimpleGUI as sg\n",
    "\n",
    "sg.theme('DarkAmber')   # Add a touch of color\n",
    "# All the stuff inside your window.\n",
    "layout = [  [sg.Text('Some text on Row 1')],\n",
    "            [sg.Text('Enter something on Row 2'), sg.InputText()],\n",
    "            [sg.Button('Hamming 15.11 decoding'),sg.Button('Hamming 7.4 decoding'), sg.Button('Hamming 7.4 coding'),sg.Button('Hamming 15.11 coding'),sg.Button('Entropy'), sg.Button('VYHOD')] ]\n",
    "\n",
    "# Create the Window\n",
    "window = sg.Window('Window Title', layout)\n",
    "# Event Loop to process \"events\" and get the \"values\" of the inputs\n",
    "while True:\n",
    "    event, values = window.read()\n",
    "    if event == sg.WIN_CLOSED or event == 'VYHOD': # if user closes window or clicks cancel\n",
    "        break\n",
    "    if event== 'Hamming 15.11 decoding':\n",
    "         ham1511codgui(values[0])\n",
    "    if event== 'Hamming 7.4 decoding':\n",
    "        ham74codgui(values[0])\n",
    "    if event== 'Entropy':\n",
    "        entropygui(values[0])\n",
    "    if event== 'Hamming 7.4 coding':\n",
    "        ham74encgui(values[0])\n",
    "    if event== 'Hamming 15.11 coding':\n",
    "        ham1511encgui(values[0])\n",
    "\n",
    "window.close()"
   ]
  },
  {
   "cell_type": "code",
   "execution_count": null,
   "metadata": {},
   "outputs": [],
   "source": []
  },
  {
   "cell_type": "code",
   "execution_count": null,
   "metadata": {},
   "outputs": [],
   "source": []
  }
 ],
 "metadata": {
  "kernelspec": {
   "display_name": "Python 3",
   "language": "python",
   "name": "python3"
  },
  "language_info": {
   "codemirror_mode": {
    "name": "ipython",
    "version": 3
   },
   "file_extension": ".py",
   "mimetype": "text/x-python",
   "name": "python",
   "nbconvert_exporter": "python",
   "pygments_lexer": "ipython3",
   "version": "3.8.3"
  }
 },
 "nbformat": 4,
 "nbformat_minor": 4
}
