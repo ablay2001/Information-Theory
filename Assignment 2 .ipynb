{
 "cells": [
  {
   "cell_type": "code",
   "execution_count": 1,
   "metadata": {},
   "outputs": [
    {
     "name": "stdout",
     "output_type": "stream",
     "text": [
      "\" 0.06666666666666667\n",
      "T 0.03333333333333333\n",
      "e 0.1\n",
      "x 0.1\n",
      "t 0.16666666666666666\n",
      ". 0.03333333333333333\n",
      "  0.1\n",
      "f 0.03333333333333333\n",
      "i 0.06666666666666667\n",
      "l 0.06666666666666667\n",
      "( 0.03333333333333333\n",
      "E 0.03333333333333333\n",
      "n 0.03333333333333333\n",
      "g 0.03333333333333333\n",
      "s 0.03333333333333333\n",
      "h 0.03333333333333333\n",
      ") 0.03333333333333333\n"
     ]
    }
   ],
   "source": [
    "text = '\"Text.txt\" file (English text)'\n",
    "arr = {}\n",
    "for s in text:\n",
    "  if s in arr:\n",
    "    arr[s] += 1\n",
    "  else:\n",
    "    arr[s] = 1\n",
    "\n",
    "for key in arr:\n",
    "  if arr[key] >= 1:\n",
    "    print (key, arr[key]/len(text))"
   ]
  },
  {
   "cell_type": "code",
   "execution_count": null,
   "metadata": {},
   "outputs": [],
   "source": []
  }
 ],
 "metadata": {
  "kernelspec": {
   "display_name": "Python 3",
   "language": "python",
   "name": "python3"
  },
  "language_info": {
   "codemirror_mode": {
    "name": "ipython",
    "version": 3
   },
   "file_extension": ".py",
   "mimetype": "text/x-python",
   "name": "python",
   "nbconvert_exporter": "python",
   "pygments_lexer": "ipython3",
   "version": "3.8.3"
  }
 },
 "nbformat": 4,
 "nbformat_minor": 4
}
