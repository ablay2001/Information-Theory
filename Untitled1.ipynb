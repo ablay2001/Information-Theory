{
 "cells": [
  {
   "cell_type": "code",
   "execution_count": 91,
   "metadata": {},
   "outputs": [
    {
     "name": "stdout",
     "output_type": "stream",
     "text": [
      "L Huffman code : 111 probability: 0.18181818181818182\n",
      "D Huffman code : 110 probability: 0.18181818181818182\n",
      "S Huffman code : 01 probability: 0.18181818181818182\n",
      "H Huffman code : 100 probability: 0.09090909090909091\n",
      "E Huffman code : 1011 probability: 0.09090909090909091\n",
      "O Huffman code : 1010 probability: 0.09090909090909091\n",
      "G Huffman code : 001 probability: 0.09090909090909091\n",
      "R Huffman code : 000 probability: 0.09090909090909091\n",
      "100101111111110101100100100001110\n",
      "original bits number 88\n",
      "encoded bits number 12.36363636363636\n",
      "Compression ration 7.117647058823532\n",
      "Average code length 1.12396694214876 bit/symbol\n"
     ]
    }
   ],
   "source": [
    "with open('q1.txt') as f:\n",
    "    contents = f.read()\n",
    "string = contents\n",
    "with open('q1.txt') as f:\n",
    "    contents = f.read()\n",
    "text = contents\n",
    "arr = {}\n",
    "for s in text:\n",
    "  if s in arr:\n",
    "    arr[s] += 1\n",
    "  else:\n",
    "    arr[s] = 1\n",
    "\n",
    "\n",
    "\n",
    "class NodeTree(object):\n",
    "\n",
    "    def __init__(self, left=None, right=None):\n",
    "        self.left = left\n",
    "        self.right = right\n",
    "\n",
    "    def children(self):\n",
    "        return (self.left, self.right)\n",
    "\n",
    "    def nodes(self):\n",
    "        return (self.left, self.right)\n",
    "\n",
    "    def __str__(self):\n",
    "        return '%s_%s' % (self.left, self.right)\n",
    "\n",
    "\n",
    "# Main function implementing huffman coding\n",
    "def huffman_code_tree(node, left=True, binString=''):\n",
    "    if type(node) is str:\n",
    "        return {node: binString}\n",
    "    (l, r) = node.children()\n",
    "    d = dict()\n",
    "    d.update(huffman_code_tree(l, True, binString + '0'))\n",
    "    d.update(huffman_code_tree(r, False, binString + '1'))\n",
    "    return d\n",
    "\n",
    "\n",
    "# Calculating frequency\n",
    "freq = {}\n",
    "for c in string:\n",
    "    if c in freq:\n",
    "        freq[c] += 1\n",
    "    else:\n",
    "        freq[c] = 1\n",
    "\n",
    "freq = sorted(freq.items(), key=lambda x: x[1], reverse=True)\n",
    "\n",
    "nodes = freq\n",
    "\n",
    "while len(nodes) > 1:\n",
    "    (key1, c1) = nodes[-1]\n",
    "    (key2, c2) = nodes[-2]\n",
    "    nodes = nodes[:-2]\n",
    "    node = NodeTree(key1, key2)\n",
    "    nodes.append((node, c1 + c2))\n",
    "\n",
    "    nodes = sorted(nodes, key=lambda x: x[1], reverse=True)\n",
    "\n",
    "huffmanCode = huffman_code_tree(nodes[0][0])\n",
    "\n",
    "\n",
    "for (char, frequency) in freq:\n",
    "    print( char,'Huffman code :', huffmanCode[char],'probability:',arr[char]/len(text))\n",
    "code=''\n",
    "for s in text:\n",
    "    s=huffmanCode[s]\n",
    "    code=code+s\n",
    "print(code)\n",
    "bitsnew=0\n",
    "bitsorig=len(string)*8\n",
    "for (char, frequency) in freq:\n",
    "    bits=(arr[char]/len(text)*arr[char]*8)\n",
    "    bitsnew=bitsnew+bits\n",
    "print('original bits number',bitsorig)\n",
    "print('encoded bits number',bitsnew)\n",
    "print('Compression ration', (bitsorig/bitsnew))\n",
    "print('Average code length', (bitsnew/len(string)),'bit/symbol')"
   ]
  },
  {
   "cell_type": "code",
   "execution_count": 84,
   "metadata": {},
   "outputs": [
    {
     "name": "stdout",
     "output_type": "stream",
     "text": [
      "11\n"
     ]
    }
   ],
   "source": [
    "print(len(freq))"
   ]
  },
  {
   "cell_type": "code",
   "execution_count": null,
   "metadata": {},
   "outputs": [],
   "source": [
    "\n",
    "\n",
    "for (char, frequency) in freq:\n",
    "    print (char,'Huffman code :', huffmanCode[char],'probability:',arr[char]/len(text))"
   ]
  },
  {
   "cell_type": "code",
   "execution_count": null,
   "metadata": {},
   "outputs": [],
   "source": []
  }
 ],
 "metadata": {
  "kernelspec": {
   "display_name": "Python 3",
   "language": "python",
   "name": "python3"
  },
  "language_info": {
   "codemirror_mode": {
    "name": "ipython",
    "version": 3
   },
   "file_extension": ".py",
   "mimetype": "text/x-python",
   "name": "python",
   "nbconvert_exporter": "python",
   "pygments_lexer": "ipython3",
   "version": "3.8.5"
  }
 },
 "nbformat": 4,
 "nbformat_minor": 4
}
